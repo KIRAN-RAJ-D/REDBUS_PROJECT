{
 "cells": [
  {
   "cell_type": "code",
   "execution_count": 1,
   "id": "5706a2f4-102d-4f6f-9b7b-0d49a732b059",
   "metadata": {},
   "outputs": [
    {
     "name": "stdout",
     "output_type": "stream",
     "text": [
      "Data inserted successfully into MySQL database.\n",
      "Data inserted successfully into MySQL database.\n",
      "Error: (1366, \"Incorrect decimal value: 'INR 676' for column 'Price' at row 1\")\n",
      "Error: (1366, \"Incorrect decimal value: 'INR 507' for column 'Price' at row 1\")\n",
      "Data inserted successfully into MySQL database.\n",
      "Data inserted successfully into MySQL database.\n",
      "Error: (1366, \"Incorrect decimal value: 'INR 95' for column 'Price' at row 1\")\n",
      "Error: nan can not be used with MySQL\n",
      "Data inserted successfully into MySQL database.\n",
      "Data inserted successfully into MySQL database.\n"
     ]
    }
   ],
   "source": [
    "import pandas as pd\n",
    "import pymysql\n",
    "\n",
    "# Function to insert data from DataFrame to MySQL\n",
    "def insert_data_from_df_to_mysql(df):\n",
    "    try:\n",
    "        # Establish connection to the MySQL database\n",
    "        connection = pymysql.connect(\n",
    "            host='127.0.0.1',\n",
    "            user='root',\n",
    "            password='6381167213',\n",
    "            database='redbus',\n",
    "            cursorclass=pymysql.cursors.DictCursor\n",
    "        )\n",
    "        \n",
    "        with connection:\n",
    "            with connection.cursor() as cursor:\n",
    "                # Create table if it does not exist\n",
    "                cursor.execute(\"\"\"\n",
    "                CREATE TABLE IF NOT EXISTS bus_details (\n",
    "                    Route_Name TEXT,\n",
    "                    Route_Link TEXT,\n",
    "                    Bus_Name TEXT,\n",
    "                    Bus_Type TEXT,\n",
    "                    Departing_Time TIME,\n",
    "                    Duration TEXT,\n",
    "                    Reaching_Time TIME,\n",
    "                    Star_Rating FLOAT,\n",
    "                    Price DECIMAL(10,2),\n",
    "                    Seat_Availability VARCHAR(255)\n",
    "                )\n",
    "                \"\"\")\n",
    "\n",
    "                # Insert data into the table\n",
    "                for _, detail in df.iterrows():\n",
    "                    cursor.execute(\"\"\"\n",
    "                    INSERT INTO bus_details (\n",
    "                        Route_Name, Route_Link, Bus_Name, Bus_Type, Departing_Time, \n",
    "                        Duration, Reaching_Time, Star_Rating, Price, Seat_Availability\n",
    "                    ) VALUES (%s, %s, %s, %s, %s, %s, %s, %s, %s, %s)\n",
    "                    \"\"\", (\n",
    "                        detail['Route_Name'], detail['Route_Link'], detail['Bus_Name'], \n",
    "                        detail['Bus_Type'], detail['Departing_Time'], detail['Duration'], \n",
    "                        detail['Reaching_Time'], detail['Star_Rating'], detail['Price'], \n",
    "                        detail['Seat_Availability']\n",
    "                    ))\n",
    "\n",
    "            # Commit the transaction\n",
    "            connection.commit()\n",
    "\n",
    "        print(\"Data inserted successfully into MySQL database.\")\n",
    "\n",
    "    except pymysql.MySQLError as err:\n",
    "        print(f\"Error: {err}\")\n",
    "\n",
    "# List of CSV files to be inserted into the database\n",
    "csv_files = [\n",
    "    'jksrtc_bus_details.csv',\n",
    "    'apsrtc_bus_details.csv',\n",
    "    'ctutc_bus_deatails.csv',\n",
    "    'hrtc_bus_details.csv',\n",
    "    'ksrtc_bus_details.csv',\n",
    "    'ktcl_bus_details.csv',\n",
    "    'sbstc_bus_details.csv',\n",
    "    'tsrtc_bus_details.csv',\n",
    "    'upsrtc_bus_details.csv',\n",
    "    'wbtc_bus_details.csv'\n",
    "]\n",
    "\n",
    "# Loop through each CSV file and insert data into MySQL\n",
    "for csv_file in csv_files:\n",
    "    df = pd.read_csv(csv_file)\n",
    "    insert_data_from_df_to_mysql(df)\n"
   ]
  },
  {
   "cell_type": "code",
   "execution_count": 2,
   "id": "591370eb-491d-4033-9a05-749dc4737d1c",
   "metadata": {},
   "outputs": [
    {
     "name": "stderr",
     "output_type": "stream",
     "text": [
      "C:\\Users\\kiran\\AppData\\Local\\Temp\\ipykernel_24992\\2585439502.py:10: FutureWarning: A value is trying to be set on a copy of a DataFrame or Series through chained assignment using an inplace method.\n",
      "The behavior will change in pandas 3.0. This inplace method will never work because the intermediate object on which we are setting values always behaves as a copy.\n",
      "\n",
      "For example, when doing 'df[col].method(value, inplace=True)', try using 'df.method({col: value}, inplace=True)' or df[col] = df[col].method(value) instead, to perform the operation inplace on the original object.\n",
      "\n",
      "\n",
      "  df['Price'].fillna(0.0, inplace=True)\n",
      "C:\\Users\\kiran\\AppData\\Local\\Temp\\ipykernel_24992\\2585439502.py:10: FutureWarning: A value is trying to be set on a copy of a DataFrame or Series through chained assignment using an inplace method.\n",
      "The behavior will change in pandas 3.0. This inplace method will never work because the intermediate object on which we are setting values always behaves as a copy.\n",
      "\n",
      "For example, when doing 'df[col].method(value, inplace=True)', try using 'df.method({col: value}, inplace=True)' or df[col] = df[col].method(value) instead, to perform the operation inplace on the original object.\n",
      "\n",
      "\n",
      "  df['Price'].fillna(0.0, inplace=True)\n"
     ]
    },
    {
     "name": "stdout",
     "output_type": "stream",
     "text": [
      "Data inserted successfully into MySQL database.\n",
      "Data inserted successfully into MySQL database.\n"
     ]
    },
    {
     "name": "stderr",
     "output_type": "stream",
     "text": [
      "C:\\Users\\kiran\\AppData\\Local\\Temp\\ipykernel_24992\\2585439502.py:10: FutureWarning: A value is trying to be set on a copy of a DataFrame or Series through chained assignment using an inplace method.\n",
      "The behavior will change in pandas 3.0. This inplace method will never work because the intermediate object on which we are setting values always behaves as a copy.\n",
      "\n",
      "For example, when doing 'df[col].method(value, inplace=True)', try using 'df.method({col: value}, inplace=True)' or df[col] = df[col].method(value) instead, to perform the operation inplace on the original object.\n",
      "\n",
      "\n",
      "  df['Price'].fillna(0.0, inplace=True)\n"
     ]
    },
    {
     "name": "stdout",
     "output_type": "stream",
     "text": [
      "Data inserted successfully into MySQL database.\n"
     ]
    },
    {
     "name": "stderr",
     "output_type": "stream",
     "text": [
      "C:\\Users\\kiran\\AppData\\Local\\Temp\\ipykernel_24992\\2585439502.py:10: FutureWarning: A value is trying to be set on a copy of a DataFrame or Series through chained assignment using an inplace method.\n",
      "The behavior will change in pandas 3.0. This inplace method will never work because the intermediate object on which we are setting values always behaves as a copy.\n",
      "\n",
      "For example, when doing 'df[col].method(value, inplace=True)', try using 'df.method({col: value}, inplace=True)' or df[col] = df[col].method(value) instead, to perform the operation inplace on the original object.\n",
      "\n",
      "\n",
      "  df['Price'].fillna(0.0, inplace=True)\n"
     ]
    },
    {
     "name": "stdout",
     "output_type": "stream",
     "text": [
      "Data inserted successfully into MySQL database.\n"
     ]
    },
    {
     "name": "stderr",
     "output_type": "stream",
     "text": [
      "C:\\Users\\kiran\\AppData\\Local\\Temp\\ipykernel_24992\\2585439502.py:10: FutureWarning: A value is trying to be set on a copy of a DataFrame or Series through chained assignment using an inplace method.\n",
      "The behavior will change in pandas 3.0. This inplace method will never work because the intermediate object on which we are setting values always behaves as a copy.\n",
      "\n",
      "For example, when doing 'df[col].method(value, inplace=True)', try using 'df.method({col: value}, inplace=True)' or df[col] = df[col].method(value) instead, to perform the operation inplace on the original object.\n",
      "\n",
      "\n",
      "  df['Price'].fillna(0.0, inplace=True)\n"
     ]
    },
    {
     "name": "stdout",
     "output_type": "stream",
     "text": [
      "Data inserted successfully into MySQL database.\n"
     ]
    },
    {
     "name": "stderr",
     "output_type": "stream",
     "text": [
      "C:\\Users\\kiran\\AppData\\Local\\Temp\\ipykernel_24992\\2585439502.py:10: FutureWarning: A value is trying to be set on a copy of a DataFrame or Series through chained assignment using an inplace method.\n",
      "The behavior will change in pandas 3.0. This inplace method will never work because the intermediate object on which we are setting values always behaves as a copy.\n",
      "\n",
      "For example, when doing 'df[col].method(value, inplace=True)', try using 'df.method({col: value}, inplace=True)' or df[col] = df[col].method(value) instead, to perform the operation inplace on the original object.\n",
      "\n",
      "\n",
      "  df['Price'].fillna(0.0, inplace=True)\n"
     ]
    },
    {
     "name": "stdout",
     "output_type": "stream",
     "text": [
      "Data inserted successfully into MySQL database.\n"
     ]
    },
    {
     "name": "stderr",
     "output_type": "stream",
     "text": [
      "C:\\Users\\kiran\\AppData\\Local\\Temp\\ipykernel_24992\\2585439502.py:10: FutureWarning: A value is trying to be set on a copy of a DataFrame or Series through chained assignment using an inplace method.\n",
      "The behavior will change in pandas 3.0. This inplace method will never work because the intermediate object on which we are setting values always behaves as a copy.\n",
      "\n",
      "For example, when doing 'df[col].method(value, inplace=True)', try using 'df.method({col: value}, inplace=True)' or df[col] = df[col].method(value) instead, to perform the operation inplace on the original object.\n",
      "\n",
      "\n",
      "  df['Price'].fillna(0.0, inplace=True)\n"
     ]
    },
    {
     "name": "stdout",
     "output_type": "stream",
     "text": [
      "Data inserted successfully into MySQL database.\n"
     ]
    },
    {
     "name": "stderr",
     "output_type": "stream",
     "text": [
      "C:\\Users\\kiran\\AppData\\Local\\Temp\\ipykernel_24992\\2585439502.py:10: FutureWarning: A value is trying to be set on a copy of a DataFrame or Series through chained assignment using an inplace method.\n",
      "The behavior will change in pandas 3.0. This inplace method will never work because the intermediate object on which we are setting values always behaves as a copy.\n",
      "\n",
      "For example, when doing 'df[col].method(value, inplace=True)', try using 'df.method({col: value}, inplace=True)' or df[col] = df[col].method(value) instead, to perform the operation inplace on the original object.\n",
      "\n",
      "\n",
      "  df['Price'].fillna(0.0, inplace=True)\n"
     ]
    },
    {
     "name": "stdout",
     "output_type": "stream",
     "text": [
      "Data inserted successfully into MySQL database.\n"
     ]
    },
    {
     "name": "stderr",
     "output_type": "stream",
     "text": [
      "C:\\Users\\kiran\\AppData\\Local\\Temp\\ipykernel_24992\\2585439502.py:10: FutureWarning: A value is trying to be set on a copy of a DataFrame or Series through chained assignment using an inplace method.\n",
      "The behavior will change in pandas 3.0. This inplace method will never work because the intermediate object on which we are setting values always behaves as a copy.\n",
      "\n",
      "For example, when doing 'df[col].method(value, inplace=True)', try using 'df.method({col: value}, inplace=True)' or df[col] = df[col].method(value) instead, to perform the operation inplace on the original object.\n",
      "\n",
      "\n",
      "  df['Price'].fillna(0.0, inplace=True)\n"
     ]
    },
    {
     "name": "stdout",
     "output_type": "stream",
     "text": [
      "Data inserted successfully into MySQL database.\n",
      "Data inserted successfully into MySQL database.\n"
     ]
    },
    {
     "name": "stderr",
     "output_type": "stream",
     "text": [
      "C:\\Users\\kiran\\AppData\\Local\\Temp\\ipykernel_24992\\2585439502.py:10: FutureWarning: A value is trying to be set on a copy of a DataFrame or Series through chained assignment using an inplace method.\n",
      "The behavior will change in pandas 3.0. This inplace method will never work because the intermediate object on which we are setting values always behaves as a copy.\n",
      "\n",
      "For example, when doing 'df[col].method(value, inplace=True)', try using 'df.method({col: value}, inplace=True)' or df[col] = df[col].method(value) instead, to perform the operation inplace on the original object.\n",
      "\n",
      "\n",
      "  df['Price'].fillna(0.0, inplace=True)\n"
     ]
    }
   ],
   "source": [
    "import pandas as pd\n",
    "import pymysql\n",
    "\n",
    "# Function to preprocess the DataFrame\n",
    "def preprocess_df(df):\n",
    "    # Remove 'INR' prefix from the 'Price' column and convert to float\n",
    "    df['Price'] = df['Price'].replace({'INR ': ''}, regex=True).astype(float)\n",
    "    \n",
    "    # Replace NaN values in 'Price' with 0.0\n",
    "    df['Price'].fillna(0.0, inplace=True)\n",
    "    \n",
    "    # Replace NaN values in other columns with appropriate default values\n",
    "    df.fillna({\n",
    "        'Route_Name': '',\n",
    "        'Route_Link': '',\n",
    "        'Bus_Name': '',\n",
    "        'Bus_Type': '',\n",
    "        'Departing_Time': '00:00:00',\n",
    "        'Duration': '',\n",
    "        'Reaching_Time': '00:00:00',\n",
    "        'Star_Rating': 0.0,\n",
    "        'Seat_Availability': ''\n",
    "    }, inplace=True)\n",
    "    \n",
    "    return df\n",
    "\n",
    "# Function to insert data from DataFrame to MySQL\n",
    "def insert_data_from_df_to_mysql(df):\n",
    "    try:\n",
    "        # Establish connection to the MySQL database\n",
    "        connection = pymysql.connect(\n",
    "            host='127.0.0.1',\n",
    "            user='root',\n",
    "            password='6381167213',\n",
    "            database='redbus',\n",
    "            cursorclass=pymysql.cursors.DictCursor\n",
    "        )\n",
    "        \n",
    "        with connection:\n",
    "            with connection.cursor() as cursor:\n",
    "                # Create table if it does not exist\n",
    "                cursor.execute(\"\"\"\n",
    "                CREATE TABLE IF NOT EXISTS bus_details (\n",
    "                    Route_Name TEXT,\n",
    "                    Route_Link TEXT,\n",
    "                    Bus_Name TEXT,\n",
    "                    Bus_Type TEXT,\n",
    "                    Departing_Time TIME,\n",
    "                    Duration TEXT,\n",
    "                    Reaching_Time TIME,\n",
    "                    Star_Rating FLOAT,\n",
    "                    Price DECIMAL(10,2),\n",
    "                    Seat_Availability VARCHAR(255)\n",
    "                )\n",
    "                \"\"\")\n",
    "\n",
    "                # Insert data into the table\n",
    "                for _, detail in df.iterrows():\n",
    "                    cursor.execute(\"\"\"\n",
    "                    INSERT INTO bus_details (\n",
    "                        Route_Name, Route_Link, Bus_Name, Bus_Type, Departing_Time, \n",
    "                        Duration, Reaching_Time, Star_Rating, Price, Seat_Availability\n",
    "                    ) VALUES (%s, %s, %s, %s, %s, %s, %s, %s, %s, %s)\n",
    "                    \"\"\", (\n",
    "                        detail['Route_Name'], detail['Route_Link'], detail['Bus_Name'], \n",
    "                        detail['Bus_Type'], detail['Departing_Time'], detail['Duration'], \n",
    "                        detail['Reaching_Time'], detail['Star_Rating'], detail['Price'], \n",
    "                        detail['Seat_Availability']\n",
    "                    ))\n",
    "\n",
    "            # Commit the transaction\n",
    "            connection.commit()\n",
    "\n",
    "        print(\"Data inserted successfully into MySQL database.\")\n",
    "\n",
    "    except pymysql.MySQLError as err:\n",
    "        print(f\"Error: {err}\")\n",
    "\n",
    "# List of CSV files to be inserted into the database\n",
    "csv_files = [\n",
    "    'jksrtc_bus_details.csv',\n",
    "    'apsrtc_bus_details.csv',\n",
    "    'ctutc_bus_deatails.csv',\n",
    "    'hrtc_bus_details.csv',\n",
    "    'ksrtc_bus_details.csv',\n",
    "    'ktcl_bus_details.csv',\n",
    "    'sbstc_bus_details.csv',\n",
    "    'tsrtc_bus_details.csv',\n",
    "    'upsrtc_bus_details.csv',\n",
    "    'wbtc_bus_details.csv'\n",
    "]\n",
    "\n",
    "# Loop through each CSV file, preprocess the data, and insert it into MySQL\n",
    "for csv_file in csv_files:\n",
    "    df = pd.read_csv(csv_file)\n",
    "    df = preprocess_df(df)\n",
    "    insert_data_from_df_to_mysql(df)\n"
   ]
  },
  {
   "cell_type": "code",
   "execution_count": null,
   "id": "75472436-2897-490c-8043-0d02d9fc1a58",
   "metadata": {},
   "outputs": [],
   "source": []
  }
 ],
 "metadata": {
  "kernelspec": {
   "display_name": "Python 3 (ipykernel)",
   "language": "python",
   "name": "python3"
  },
  "language_info": {
   "codemirror_mode": {
    "name": "ipython",
    "version": 3
   },
   "file_extension": ".py",
   "mimetype": "text/x-python",
   "name": "python",
   "nbconvert_exporter": "python",
   "pygments_lexer": "ipython3",
   "version": "3.12.4"
  }
 },
 "nbformat": 4,
 "nbformat_minor": 5
}
